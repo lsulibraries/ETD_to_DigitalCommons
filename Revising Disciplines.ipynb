{
 "cells": [
  {
   "cell_type": "code",
   "execution_count": null,
   "metadata": {},
   "outputs": [],
   "source": [
    "#! /usr/bin/env python3\n",
    "\n",
    "import os\n",
    "import shutil\n",
    "import csv\n",
    "from collections import namedtuple\n",
    "from datetime import datetime\n",
    "import urllib.request\n",
    "import re\n",
    "\n",
    "import pdir\n",
    "import openpyxl"
   ]
  },
  {
   "cell_type": "markdown",
   "metadata": {},
   "source": [
    "## read and parse the DigitialCommons revision spreadsheet (must convert to xlsx first)"
   ]
  },
  {
   "cell_type": "code",
   "execution_count": null,
   "metadata": {},
   "outputs": [],
   "source": [
    "wb = openpyxl.load_workbook('/home/francis/Downloads/gradschool_dissertations_1.xls_Tue_Mar_21_20_58_54_2017part_1.xlsx')\n",
    "current_sheet = wb.get_sheet_by_name('8734444')"
   ]
  },
  {
   "cell_type": "code",
   "execution_count": null,
   "metadata": {},
   "outputs": [],
   "source": [
    "wb_dict = dict()\n",
    "for num, row in enumerate(current_sheet.iter_rows()):\n",
    "    if num == 0:\n",
    "        keys = [i.value for i in row]\n",
    "        continue\n",
    "    values = [i.value for i in row]\n",
    "    row_dict = {keys[i]: values[i] for i in range(len(keys))}\n",
    "    wb_dict[num] = row_dict"
   ]
  },
  {
   "cell_type": "markdown",
   "metadata": {},
   "source": [
    "## read and parse the mapping spreadsheet of deg/dept to discipline"
   ]
  },
  {
   "cell_type": "code",
   "execution_count": null,
   "metadata": {
    "collapsed": true
   },
   "outputs": [],
   "source": [
    "matches = openpyxl.load_workbook('/home/francis/Downloads/Disciplines for imported documents final.xlsx')\n",
    "matches_sheet = matches.get_sheet_by_name('Sheet1')"
   ]
  },
  {
   "cell_type": "code",
   "execution_count": null,
   "metadata": {},
   "outputs": [],
   "source": [
    "matches_dict = set()\n",
    "for num, row in enumerate(matches_sheet.iter_rows()):\n",
    "    if num == 0:\n",
    "        headers = (i.value.replace(' ', '') for i in row)\n",
    "        Matches = namedtuple('Matches', headers)\n",
    "        continue\n",
    "    values = (i.value for i in row)\n",
    "    item = Matches(*values)\n",
    "    matches_dict.add(item)"
   ]
  },
  {
   "cell_type": "markdown",
   "metadata": {},
   "source": [
    "## pick the matching discipline & assign it to each item"
   ]
  },
  {
   "cell_type": "code",
   "execution_count": null,
   "metadata": {},
   "outputs": [],
   "source": [
    "def match_discipline(obs_dept, obs_degree):\n",
    "    for item in matches_dict:\n",
    "        dept, degree, discipline = item.Ifdepartmentequals, item.anddegree_nameequals, item.thendisciplinesis\n",
    "        if obs_dept == dept:\n",
    "            if degree and obs_degree == degree:\n",
    "                return discipline\n",
    "            if not degree:\n",
    "                return discipline"
   ]
  },
  {
   "cell_type": "code",
   "execution_count": null,
   "metadata": {},
   "outputs": [],
   "source": [
    "for key, item in wb_dict.items():\n",
    "    discipline = match_discipline(item['department'], item['degree_name'])\n",
    "    if discipline:\n",
    "        item['disciplines'] = discipline"
   ]
  },
  {
   "cell_type": "code",
   "execution_count": null,
   "metadata": {},
   "outputs": [],
   "source": [
    "# fix date formatting after the fact, cause i forgot to specify the date format on reading the file\n",
    "\n",
    "for key, item in wb_dict.items():\n",
    "    for name, value in item.items():\n",
    "        if value and isinstance(value, datetime):\n",
    "            item[name] = value.strftime('%Y-%m-%d')"
   ]
  },
  {
   "cell_type": "markdown",
   "metadata": {},
   "source": [
    "## make the csv, which you'll inspect then copy/paste over the original revision xls file"
   ]
  },
  {
   "cell_type": "code",
   "execution_count": null,
   "metadata": {
    "collapsed": true
   },
   "outputs": [],
   "source": [
    "def csv_writer(data, path):\n",
    "    with open(path, \"w\", newline='', encoding='utf-8') as csv_file:\n",
    "        writer = csv.writer(csv_file, delimiter=',', quotechar='\"', quoting=csv.QUOTE_ALL)\n",
    "        for line in data:\n",
    "            writer.writerow(line)"
   ]
  },
  {
   "cell_type": "code",
   "execution_count": null,
   "metadata": {
    "collapsed": true
   },
   "outputs": [],
   "source": [
    "def build_csv(wb_dict, current_sheet):\n",
    "    csv_data = []\n",
    "    fieldnames = [i.value for i in current_sheet.rows[0]]\n",
    "    csv_data.append(fieldnames)\n",
    "\n",
    "    for num, row_dict in wb_dict.items():\n",
    "        this_row = [row_dict[fieldname] for fieldname in fieldnames]\n",
    "        csv_data.append(this_row)\n",
    "    csv_writer(csv_data, '../../gradschool_theses_revision.csv')"
   ]
  },
  {
   "cell_type": "code",
   "execution_count": null,
   "metadata": {},
   "outputs": [],
   "source": [
    "build_csv(wb_dict, current_sheet)"
   ]
  },
  {
   "cell_type": "markdown",
   "metadata": {},
   "source": [
    "## error checking"
   ]
  },
  {
   "cell_type": "code",
   "execution_count": null,
   "metadata": {},
   "outputs": [],
   "source": [
    "# check for items that will not be assigned a discipline -- report their dept/degree\n",
    "\n",
    "no_disciplines = set()\n",
    "count = 0\n",
    "\n",
    "for key, item in wb_dict.items():\n",
    "    if not item['disciplines']:\n",
    "        count += 1\n",
    "        no_disciplines.add((item['department'], item['degree_name']))\n",
    "        \n",
    "print(count, len(no_disciplines), len(wb_dict))\n",
    "\n",
    "for i in no_disciplines:\n",
    "    print('{}\\t{}'.format(i[0], i[1]))"
   ]
  }
 ],
 "metadata": {
  "kernelspec": {
   "display_name": "Python 3",
   "language": "python",
   "name": "python3"
  },
  "language_info": {
   "codemirror_mode": {
    "name": "ipython",
    "version": 3
   },
   "file_extension": ".py",
   "mimetype": "text/x-python",
   "name": "python",
   "nbconvert_exporter": "python",
   "pygments_lexer": "ipython3",
   "version": "3.5.3"
  }
 },
 "nbformat": 4,
 "nbformat_minor": 1
}
