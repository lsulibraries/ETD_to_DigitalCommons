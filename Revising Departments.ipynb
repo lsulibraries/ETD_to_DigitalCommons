{
 "cells": [
  {
   "cell_type": "code",
   "execution_count": null,
   "metadata": {
    "collapsed": false,
    "deletable": true,
    "editable": true
   },
   "outputs": [],
   "source": [
    "#! /usr/bin/env python3\n",
    "\n",
    "import os\n",
    "import shutil\n",
    "import csv\n",
    "from collections import namedtuple\n",
    "from datetime import datetime\n",
    "import urllib.request\n",
    "import re\n",
    "\n",
    "import pdir\n",
    "import openpyxl"
   ]
  },
  {
   "cell_type": "markdown",
   "metadata": {
    "deletable": true,
    "editable": true
   },
   "source": [
    "## read and parse the DigitialCommons revision spreadsheet (must convert to xlsx first)"
   ]
  },
  {
   "cell_type": "code",
   "execution_count": null,
   "metadata": {
    "collapsed": false,
    "deletable": true,
    "editable": true
   },
   "outputs": [],
   "source": [
    "original_revision_xlsx_file = '/home/francis/Downloads/gradschool_disstheses_1.xls_Mon_Apr_03_09_57_55_2017part_1.xlsx'\n",
    "\n",
    "wb = openpyxl.load_workbook(original_revision_xlsx_file)\n",
    "if len(wb.sheetnames) == 1:\n",
    "    current_sheet = wb.get_sheet_by_name(wb.sheetnames[0])"
   ]
  },
  {
   "cell_type": "code",
   "execution_count": null,
   "metadata": {
    "collapsed": false,
    "deletable": true,
    "editable": true
   },
   "outputs": [],
   "source": [
    "wb_dict = dict()\n",
    "for num, row in enumerate(current_sheet.iter_rows()):\n",
    "    if num == 0:\n",
    "        keys = [i.value for i in row]\n",
    "        continue\n",
    "    values = [i.value for i in row]\n",
    "    row_dict = {keys[i]: values[i] for i in range(len(keys))}\n",
    "    wb_dict[num] = row_dict"
   ]
  },
  {
   "cell_type": "markdown",
   "metadata": {
    "deletable": true,
    "editable": true
   },
   "source": [
    "## read and parse the mapping spreadsheet of deg/dept to discipline"
   ]
  },
  {
   "cell_type": "code",
   "execution_count": null,
   "metadata": {
    "collapsed": false,
    "deletable": true,
    "editable": true
   },
   "outputs": [],
   "source": [
    "matches = openpyxl.load_workbook('/home/francis/Downloads/Known Committee Chair Depts.xlsx')\n",
    "matches_sheet = matches.get_sheet_by_name('Sheet3')"
   ]
  },
  {
   "cell_type": "code",
   "execution_count": null,
   "metadata": {
    "collapsed": false,
    "deletable": true,
    "editable": true
   },
   "outputs": [],
   "source": [
    "matches_set = set()\n",
    "for num, row in enumerate(matches_sheet.iter_rows()):\n",
    "    if num == 0:\n",
    "        headers = (i.value.replace(' ', '') for i in row)\n",
    "        Matches = namedtuple('Matches', headers)\n",
    "        continue\n",
    "    values = (i.value for i in row)\n",
    "    item = Matches(*values)\n",
    "    matches_set.add(item)"
   ]
  },
  {
   "cell_type": "markdown",
   "metadata": {
    "deletable": true,
    "editable": true
   },
   "source": [
    "## pick the matching discipline & assign it to each item"
   ]
  },
  {
   "cell_type": "code",
   "execution_count": null,
   "metadata": {
    "collapsed": true
   },
   "outputs": [],
   "source": [
    "def match_dept_legacy_dept(advisor):\n",
    "    for nt in matches_set:\n",
    "        if nt.advisor1 == advisor:\n",
    "            return (nt.department, nt.legacy_department)\n",
    "    return (None, None)"
   ]
  },
  {
   "cell_type": "code",
   "execution_count": null,
   "metadata": {
    "collapsed": false,
    "deletable": true,
    "editable": true
   },
   "outputs": [],
   "source": [
    "# def match_discipline(obs_dept, obs_degree):\n",
    "#     for item in matches_dict:\n",
    "#         dept, degree, discipline = item.Ifdepartmentequals, item.anddegree_nameequals, item.thendisciplinesis\n",
    "#         if obs_dept == dept:\n",
    "#             if degree and obs_degree == degree:\n",
    "#                 return discipline\n",
    "#             if not degree:\n",
    "#                 return discipline"
   ]
  },
  {
   "cell_type": "code",
   "execution_count": null,
   "metadata": {
    "collapsed": false
   },
   "outputs": [],
   "source": [
    "match = 0\n",
    "no_new_set = set()\n",
    "no_new = 0\n",
    "no_match = 0\n",
    "no_match_set = set()\n",
    "\n",
    "legacy_match = 0\n",
    "no_legacy_new = 0\n",
    "no_legacy_match = 0\n",
    "no_legacy_match_set = set()\n",
    "\n",
    "\n",
    "\n",
    "for key, item in wb_dict.items():\n",
    "    new_dept, new_legacy_dept = match_dept_legacy_dept(item['advisor1'])\n",
    "    if item['department'] == 'Comparative Literature (Interdepartmental Program)':\n",
    "        pass\n",
    "    elif item['department']:\n",
    "        if item['department'] == new_dept:\n",
    "            match +=1\n",
    "        elif new_dept:\n",
    "            no_match += 1\n",
    "            no_match_set.add('{}---------{}'.format(item['department'], new_dept))\n",
    "        else:\n",
    "            no_new += 1\n",
    "    else:\n",
    "        item['department'] = new_dept\n",
    "    item['legacy_department'] = new_legacy_dept\n",
    "\n",
    "\n",
    "print(match, no_new, no_match)\n",
    "print(legacy_match, no_legacy_new, no_legacy_match)\n",
    "print(sorted(no_match_set))\n",
    "print(sorted(no_legacy_match_set))"
   ]
  },
  {
   "cell_type": "code",
   "execution_count": null,
   "metadata": {
    "collapsed": false,
    "deletable": true,
    "editable": true
   },
   "outputs": [],
   "source": [
    "# for key, item in wb_dict.items():\n",
    "#     discipline = match_discipline(item['department'], item['degree_name'])\n",
    "#     if discipline:\n",
    "#         item['disciplines'] = discipline"
   ]
  },
  {
   "cell_type": "code",
   "execution_count": null,
   "metadata": {
    "collapsed": false,
    "deletable": true,
    "editable": true
   },
   "outputs": [],
   "source": [
    "# fix date formatting after the fact, cause i forgot to specify the date format on reading the file\n",
    "\n",
    "for key, item in wb_dict.items():\n",
    "    for name, value in item.items():\n",
    "        if value and isinstance(value, datetime):\n",
    "            item[name] = value.strftime('%Y-%m-%d')"
   ]
  },
  {
   "cell_type": "markdown",
   "metadata": {
    "deletable": true,
    "editable": true
   },
   "source": [
    "## make the csv, which you'll inspect then copy/paste over the original revision xls file"
   ]
  },
  {
   "cell_type": "code",
   "execution_count": null,
   "metadata": {
    "collapsed": true,
    "deletable": true,
    "editable": true
   },
   "outputs": [],
   "source": [
    "def csv_writer(data, path):\n",
    "    with open(path, \"w\", newline='', encoding='utf-8') as csv_file:\n",
    "        writer = csv.writer(csv_file, delimiter=',', quotechar='\"', quoting=csv.QUOTE_ALL)\n",
    "        for line in data:\n",
    "            writer.writerow(line)"
   ]
  },
  {
   "cell_type": "code",
   "execution_count": null,
   "metadata": {
    "collapsed": true,
    "deletable": true,
    "editable": true
   },
   "outputs": [],
   "source": [
    "def build_csv(wb_dict, current_sheet):\n",
    "    csv_data = []\n",
    "    fieldnames = [i.value for i in current_sheet.rows[0]]\n",
    "    csv_data.append(fieldnames)\n",
    "\n",
    "    for num, row_dict in wb_dict.items():\n",
    "        this_row = [row_dict[fieldname] for fieldname in fieldnames]\n",
    "        csv_data.append(this_row)\n",
    "    csv_writer(csv_data, '../../gradschool_legacy_diss_revision.csv')"
   ]
  },
  {
   "cell_type": "code",
   "execution_count": null,
   "metadata": {
    "collapsed": false,
    "deletable": true,
    "editable": true
   },
   "outputs": [],
   "source": [
    "build_csv(wb_dict, current_sheet)"
   ]
  },
  {
   "cell_type": "markdown",
   "metadata": {
    "deletable": true,
    "editable": true
   },
   "source": [
    "## error checking"
   ]
  },
  {
   "cell_type": "code",
   "execution_count": null,
   "metadata": {
    "collapsed": false,
    "deletable": true,
    "editable": true
   },
   "outputs": [],
   "source": [
    "# check for items that will not be assigned a discipline -- report their dept/degree\n",
    "\n",
    "no_disciplines = set()\n",
    "count = 0\n",
    "\n",
    "for key, item in wb_dict.items():\n",
    "    if not item['disciplines']:\n",
    "        count += 1\n",
    "        no_disciplines.add((item['department'], item['degree_name']))\n",
    "        \n",
    "print(count, len(no_disciplines), len(wb_dict))\n",
    "\n",
    "for i in no_disciplines:\n",
    "    print('{}\\t{}'.format(i[0], i[1]))"
   ]
  },
  {
   "cell_type": "code",
   "execution_count": null,
   "metadata": {
    "collapsed": false,
    "deletable": true,
    "editable": true
   },
   "outputs": [],
   "source": [
    "for k, v in wb_dict.items():\n",
    "    print(k, v)\n",
    "    break"
   ]
  },
  {
   "cell_type": "code",
   "execution_count": null,
   "metadata": {
    "collapsed": false
   },
   "outputs": [],
   "source": [
    "print(matches_set)"
   ]
  },
  {
   "cell_type": "code",
   "execution_count": null,
   "metadata": {
    "collapsed": true
   },
   "outputs": [],
   "source": []
  }
 ],
 "metadata": {
  "kernelspec": {
   "display_name": "Python 3",
   "language": "python",
   "name": "python3"
  },
  "language_info": {
   "codemirror_mode": {
    "name": "ipython",
    "version": 3
   },
   "file_extension": ".py",
   "mimetype": "text/x-python",
   "name": "python",
   "nbconvert_exporter": "python",
   "pygments_lexer": "ipython3",
   "version": "3.5.2"
  }
 },
 "nbformat": 4,
 "nbformat_minor": 1
}
